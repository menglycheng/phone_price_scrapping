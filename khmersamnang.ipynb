{
 "cells": [
  {
   "cell_type": "code",
   "execution_count": 1,
   "metadata": {},
   "outputs": [],
   "source": [
    "from urllib.request import Request, urlopen\n",
    "from bs4 import BeautifulSoup as bs"
   ]
  },
  {
   "cell_type": "code",
   "execution_count": null,
   "metadata": {},
   "outputs": [],
   "source": []
  },
  {
   "cell_type": "code",
   "execution_count": 2,
   "metadata": {},
   "outputs": [],
   "source": [
    "def get_webpage(url):\n",
    "    hdr = {'User-Agent': 'Mozilla/5.0'}\n",
    "    req = Request(url,headers=hdr)\n",
    "    page = urlopen(req)\n",
    "    return bs(page,\"html.parser\")\n",
    "    "
   ]
  },
  {
   "cell_type": "code",
   "execution_count": 3,
   "metadata": {},
   "outputs": [],
   "source": [
    "url = 'https://khmersamnang.com/product-category/'"
   ]
  },
  {
   "cell_type": "code",
   "execution_count": null,
   "metadata": {},
   "outputs": [],
   "source": []
  },
  {
   "cell_type": "code",
   "execution_count": 4,
   "metadata": {},
   "outputs": [],
   "source": [
    "url_page = [f'{url}smartphones/',f'{url}tablets/',f'{url}smartwatches/',f'{url}accessories/']"
   ]
  },
  {
   "cell_type": "code",
   "execution_count": 5,
   "metadata": {},
   "outputs": [
    {
     "name": "stdout",
     "output_type": "stream",
     "text": [
      "https://khmersamnang.com/product-category/smartphones/\n",
      "https://khmersamnang.com/product-category/tablets/\n",
      "https://khmersamnang.com/product-category/smartwatches/\n",
      "https://khmersamnang.com/product-category/accessories/\n"
     ]
    }
   ],
   "source": [
    "for i in url_page:\n",
    "    print(i)"
   ]
  },
  {
   "cell_type": "code",
   "execution_count": 6,
   "metadata": {},
   "outputs": [],
   "source": [
    "products=[]"
   ]
  },
  {
   "cell_type": "code",
   "execution_count": 8,
   "metadata": {},
   "outputs": [],
   "source": [
    "for link in url_page:\n",
    "    soup = get_webpage(link)\n",
    "    page_num = soup.find_all('a',{'class','page-numbers'})\n",
    "    last_page = page_num[-2].text\n",
    "    if page_num:\n",
    "        for index in range(1,int(last_page)):\n",
    "            test_url = link+'/page/'+str(index)\n",
    "            page_url = get_webpage(test_url)\n",
    "            product_items = page_url.find_all('ul', {'class','products'})\n",
    "            for product_item in product_items:\n",
    "                list_items = product_item.find_all('li')\n",
    "\n",
    "                for item in list_items: \n",
    "                    product = {}\n",
    "                    product['name'] = item.find('h2', {'class', 'woocommerce-loop-product__title'}).text\n",
    "                    product['link'] = item.find('a')['href']\n",
    "                    product['image_url'] = item.find('img')['src']\n",
    "\n",
    "                    price_tag = item.find('span',{'class','price'})\n",
    "                    if price_tag:\n",
    "                        if len(price_tag)== 1:\n",
    "                           normal_price = item.find('span', {'class', 'woocommerce-Price-amount amount'})\n",
    "                           product['price'] = normal_price.text\n",
    "                        else:\n",
    "                           product['price'] = item.find('del').text\n",
    "                           product['discount'] = item.find('ins').text\n",
    "                    products.append(product)"
   ]
  },
  {
   "cell_type": "code",
   "execution_count": 9,
   "metadata": {},
   "outputs": [
    {
     "name": "stdout",
     "output_type": "stream",
     "text": [
      "300\n"
     ]
    }
   ],
   "source": [
    "print(len(products))"
   ]
  },
  {
   "cell_type": "code",
   "execution_count": 10,
   "metadata": {},
   "outputs": [],
   "source": [
    "import json\n",
    "with open('khmersamnang.json', 'w') as json_file:\n",
    "    json.dump(products, json_file)"
   ]
  },
  {
   "cell_type": "code",
   "execution_count": null,
   "metadata": {},
   "outputs": [],
   "source": []
  }
 ],
 "metadata": {
  "kernelspec": {
   "display_name": "Python 3",
   "language": "python",
   "name": "python3"
  },
  "language_info": {
   "codemirror_mode": {
    "name": "ipython",
    "version": 3
   },
   "file_extension": ".py",
   "mimetype": "text/x-python",
   "name": "python",
   "nbconvert_exporter": "python",
   "pygments_lexer": "ipython3",
   "version": "3.7.6"
  }
 },
 "nbformat": 4,
 "nbformat_minor": 4
}
