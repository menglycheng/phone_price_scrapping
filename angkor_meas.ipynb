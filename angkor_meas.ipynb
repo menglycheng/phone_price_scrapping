{
 "cells": [
  {
   "cell_type": "code",
   "execution_count": 1,
   "metadata": {},
   "outputs": [],
   "source": [
    "from urllib.request import Request, urlopen\n",
    "from bs4 import BeautifulSoup as bs"
   ]
  },
  {
   "cell_type": "code",
   "execution_count": null,
   "metadata": {},
   "outputs": [],
   "source": []
  },
  {
   "cell_type": "code",
   "execution_count": 2,
   "metadata": {},
   "outputs": [],
   "source": [
    "def get_webpage(url):\n",
    "    hdr = {'User-Agent': 'Mozilla/5.0'}\n",
    "    req = Request(url,headers=hdr)\n",
    "    page = urlopen(req)\n",
    "    return bs(page,\"html.parser\")\n",
    "    "
   ]
  },
  {
   "cell_type": "code",
   "execution_count": 3,
   "metadata": {},
   "outputs": [],
   "source": [
    "url = 'https://angkormeas.com/'"
   ]
  },
  {
   "cell_type": "code",
   "execution_count": 4,
   "metadata": {},
   "outputs": [],
   "source": [
    "soup = get_webpage(url)"
   ]
  },
  {
   "cell_type": "code",
   "execution_count": 5,
   "metadata": {},
   "outputs": [],
   "source": [
    "find_nav = soup.find('nav')\n",
    "find_ul = find_nav.find('ul')\n",
    "find_li = find_ul.find_all('li')"
   ]
  },
  {
   "cell_type": "code",
   "execution_count": 6,
   "metadata": {},
   "outputs": [],
   "source": [
    "brand_items = []"
   ]
  },
  {
   "cell_type": "code",
   "execution_count": 7,
   "metadata": {},
   "outputs": [],
   "source": [
    "for li in find_li:\n",
    "    find_a = li.find_all('a')\n",
    "    for a in find_a:\n",
    "        if a.text in ['Computer', 'Smart Phones', 'Tablet|Watch|PC','Accessories']:\n",
    "#             print(a.text)\n",
    "            brand_item = {}\n",
    "            brand_item['brand_name'] = a.text\n",
    "            brand_item['url'] = a['href']\n",
    "            brand_items.append(brand_item)"
   ]
  },
  {
   "cell_type": "code",
   "execution_count": 24,
   "metadata": {},
   "outputs": [],
   "source": [
    "products=[]"
   ]
  },
  {
   "cell_type": "code",
   "execution_count": 25,
   "metadata": {},
   "outputs": [
    {
     "name": "stdout",
     "output_type": "stream",
     "text": [
      "https://angkormeas.com/brand/pc/\n",
      "https://angkormeas.com/product-category/s-phones/\n",
      "https://angkormeas.com/product-category/tablets/\n",
      "https://angkormeas.com/product-category/acc/\n"
     ]
    }
   ],
   "source": [
    "for product_url in brand_items:\n",
    "    product = get_webpage(product_url['url'])\n",
    "    page_num = product.find('ul',{'class','page-numbers'})\n",
    "    print(product_url['url'])\n",
    "    if page_num:\n",
    "        for index in range(1,len(page_num)):\n",
    "            test_url = product_url['url']+'page/'+str(index)\n",
    "            page_url = get_webpage(test_url)\n",
    "            product_items = page_url.find_all('ul', {'class','products'})\n",
    "            for product_item in product_items:\n",
    "                list_items = product_item.find_all('li')\n",
    "\n",
    "                for item in list_items: \n",
    "                    product = {}\n",
    "                    product['name'] = item.find('h2', {'class', 'woocommerce-loop-product__title'}).text\n",
    "                    product['link'] = item.find('a')['href']\n",
    "                    product['image_url'] = item.find('img')['src']\n",
    "\n",
    "                    price_tag = item.find('span',{'class','price'})\n",
    "                    if price_tag:\n",
    "                        if len(price_tag)== 1:\n",
    "                           normal_price = item.find('span', {'class', 'woocommerce-Price-amount amount'})\n",
    "                           product['price'] = normal_price.text\n",
    "                        else:\n",
    "                           product['price'] = item.find('del').text\n",
    "                           product['discount'] = item.find('ins').text\n",
    "                    products.append(product)"
   ]
  },
  {
   "cell_type": "code",
   "execution_count": 28,
   "metadata": {},
   "outputs": [],
   "source": [
    "import json\n",
    "with open('angkor_meas.json', 'w') as json_file:\n",
    "    json.dump(products, json_file)"
   ]
  },
  {
   "cell_type": "code",
   "execution_count": null,
   "metadata": {},
   "outputs": [],
   "source": []
  }
 ],
 "metadata": {
  "kernelspec": {
   "display_name": "Python 3",
   "language": "python",
   "name": "python3"
  },
  "language_info": {
   "codemirror_mode": {
    "name": "ipython",
    "version": 3
   },
   "file_extension": ".py",
   "mimetype": "text/x-python",
   "name": "python",
   "nbconvert_exporter": "python",
   "pygments_lexer": "ipython3",
   "version": "3.7.6"
  }
 },
 "nbformat": 4,
 "nbformat_minor": 4
}
